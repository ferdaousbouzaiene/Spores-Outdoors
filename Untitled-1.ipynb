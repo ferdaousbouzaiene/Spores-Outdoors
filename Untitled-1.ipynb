{
 "cells": [
  {
   "cell_type": "code",
   "execution_count": 6,
   "id": "1e243e64",
   "metadata": {},
   "outputs": [],
   "source": [
    "import os\n",
    "import pandas as pd\n",
    "from sqlalchemy import create_engine\n",
    "import matplotlib.pyplot as plt"
   ]
  },
  {
   "cell_type": "code",
   "execution_count": null,
   "id": "50a79850",
   "metadata": {},
   "outputs": [],
   "source": [
    "\n",
    "# Connect to DB\n",
    "DATABASE_URL = os.getenv(\"DATABASE_URL\", \"postgresql+psycopg2://ferdaousbouzaiene@localhost:5432/spores\")\n",
    "engine = create_engine(DATABASE_URL)"
   ]
  },
  {
   "cell_type": "code",
   "execution_count": 2,
   "id": "87dff805",
   "metadata": {},
   "outputs": [],
   "source": [
    "# Load tables\n",
    "df_weather = pd.read_sql(\"SELECT * FROM weather_data\", engine)\n",
    "df_queries = pd.read_sql(\"SELECT * FROM user_queries\", engine)"
   ]
  },
  {
   "cell_type": "code",
   "execution_count": 4,
   "id": "5ee6416f",
   "metadata": {},
   "outputs": [
    {
     "name": "stdout",
     "output_type": "stream",
     "text": [
      "Weather shape: (0, 9)\n",
      "User queries shape: (1, 6)\n"
     ]
    }
   ],
   "source": [
    "print(\"Weather shape:\", df_weather.shape)\n",
    "print(\"User queries shape:\", df_queries.shape)"
   ]
  },
  {
   "cell_type": "code",
   "execution_count": 5,
   "id": "cf8cd38a",
   "metadata": {},
   "outputs": [
    {
     "data": {
      "text/html": [
       "<div>\n",
       "<style scoped>\n",
       "    .dataframe tbody tr th:only-of-type {\n",
       "        vertical-align: middle;\n",
       "    }\n",
       "\n",
       "    .dataframe tbody tr th {\n",
       "        vertical-align: top;\n",
       "    }\n",
       "\n",
       "    .dataframe thead th {\n",
       "        text-align: right;\n",
       "    }\n",
       "</style>\n",
       "<table border=\"1\" class=\"dataframe\">\n",
       "  <thead>\n",
       "    <tr style=\"text-align: right;\">\n",
       "      <th></th>\n",
       "      <th>id</th>\n",
       "      <th>city</th>\n",
       "      <th>ts</th>\n",
       "      <th>fetched_at</th>\n",
       "      <th>temperature</th>\n",
       "      <th>humidity</th>\n",
       "      <th>rainfall</th>\n",
       "      <th>wind_speed</th>\n",
       "      <th>condition</th>\n",
       "    </tr>\n",
       "  </thead>\n",
       "  <tbody>\n",
       "  </tbody>\n",
       "</table>\n",
       "</div>"
      ],
      "text/plain": [
       "Empty DataFrame\n",
       "Columns: [id, city, ts, fetched_at, temperature, humidity, rainfall, wind_speed, condition]\n",
       "Index: []"
      ]
     },
     "metadata": {},
     "output_type": "display_data"
    },
    {
     "data": {
      "text/html": [
       "<div>\n",
       "<style scoped>\n",
       "    .dataframe tbody tr th:only-of-type {\n",
       "        vertical-align: middle;\n",
       "    }\n",
       "\n",
       "    .dataframe tbody tr th {\n",
       "        vertical-align: top;\n",
       "    }\n",
       "\n",
       "    .dataframe thead th {\n",
       "        text-align: right;\n",
       "    }\n",
       "</style>\n",
       "<table border=\"1\" class=\"dataframe\">\n",
       "  <thead>\n",
       "    <tr style=\"text-align: right;\">\n",
       "      <th></th>\n",
       "      <th>id</th>\n",
       "      <th>city</th>\n",
       "      <th>ts</th>\n",
       "      <th>mushroom_score</th>\n",
       "      <th>hiking_score</th>\n",
       "      <th>recommendation</th>\n",
       "    </tr>\n",
       "  </thead>\n",
       "  <tbody>\n",
       "    <tr>\n",
       "      <th>0</th>\n",
       "      <td>1</td>\n",
       "      <td>berlin</td>\n",
       "      <td>2025-09-19 11:51:05.482952</td>\n",
       "      <td>4.5</td>\n",
       "      <td>6.5</td>\n",
       "      <td>hiking</td>\n",
       "    </tr>\n",
       "  </tbody>\n",
       "</table>\n",
       "</div>"
      ],
      "text/plain": [
       "   id    city                         ts  mushroom_score  hiking_score  \\\n",
       "0   1  berlin 2025-09-19 11:51:05.482952             4.5           6.5   \n",
       "\n",
       "  recommendation  \n",
       "0         hiking  "
      ]
     },
     "metadata": {},
     "output_type": "display_data"
    }
   ],
   "source": [
    "# Quick peek\n",
    "display(df_weather.head())\n",
    "display(df_queries.head())"
   ]
  },
  {
   "cell_type": "code",
   "execution_count": null,
   "id": "87dc60ff",
   "metadata": {},
   "outputs": [
    {
     "data": {
      "image/png": "[encoded data removed]",
      "text/plain": [
       "<Figure size 640x480 with 1 Axes>"
      ]
     },
     "metadata": {},
     "output_type": "display_data"
    }
   ],
   "source": [
    "merged = pd.merge(df_weather, df_queries, on=\"city\", suffixes=(\"_weather\", \"_query\"))\n",
    "\n",
    "plt.scatter(merged[\"temperature\"], merged[\"mushroom_score\"], alpha=0.6)\n",
    "plt.xlabel(\"Temperature (°C)\")\n",
    "plt.ylabel(\"Mushroom Score\")\n",
    "plt.title(\"Mushroom Score vs Temperature\")\n",
    "plt.show()"
   ]
  },
  {
   "cell_type": "code",
   "execution_count": null,
   "id": "a774e91b",
   "metadata": {},
   "outputs": [],
   "source": []
  }
 ],
 "metadata": {
  "kernelspec": {
   "display_name": "lewagon",
   "language": "python",
   "name": "python3"
  },
  "language_info": {
   "codemirror_mode": {
    "name": "ipython",
    "version": 3
   },
   "file_extension": ".py",
   "mimetype": "text/x-python",
   "name": "python",
   "nbconvert_exporter": "python",
   "pygments_lexer": "ipython3",
   "version": "3.12.9"
  }
 },
 "nbformat": 4,
 "nbformat_minor": 5
}
